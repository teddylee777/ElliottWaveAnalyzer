{
 "cells": [
  {
   "cell_type": "code",
   "execution_count": 1,
   "metadata": {},
   "outputs": [],
   "source": [
    "from __future__ import annotations\n",
    "import matplotlib.pyplot as plt\n",
    "import FinanceDataReader as fdr\n",
    "from models import WavePattern\n",
    "from models import WaveRules\n",
    "from models import WaveAnalyzer\n",
    "from models import WaveOptions\n",
    "from models.helpers import plot_pattern\n",
    "import pandas as pd\n",
    "import numpy as np\n",
    "\n",
    "import importlib\n",
    "import pandas as pd\n",
    "\n",
    "importlib.reload(WaveRules)\n",
    "importlib.reload(WaveAnalyzer)\n",
    "importlib.reload(WavePattern)\n",
    "\n",
    "\n",
    "def plot_graph(df, threshold=0.05):\n",
    "    points_to_highlight = detect_zigzag(df, threshold)\n",
    "\n",
    "    # Extracting index and price for highlighting\n",
    "    indexes = [point[0] for point in points_to_highlight]\n",
    "    prices = [point[1] for point in points_to_highlight]\n",
    "\n",
    "    # Plotting the line chart for 'Close' vs. 'Date'\n",
    "    plt.figure(figsize=(10, 6))\n",
    "    plt.plot(df[\"Date\"], df[\"Close\"], label=\"Close Price\")\n",
    "\n",
    "    # Highlighting specified points with scatter plot\n",
    "    plt.scatter(df.iloc[indexes][\"Date\"], prices, color=\"red\")\n",
    "\n",
    "    # Enhancing the plot\n",
    "    plt.xlabel(\"Date\")\n",
    "    plt.ylabel(\"Close Price\")\n",
    "    plt.title(\"Stock Price with Highlighted Points\")\n",
    "    plt.legend()\n",
    "    plt.grid(True)\n",
    "    plt.xticks(rotation=45)\n",
    "    plt.tight_layout()\n",
    "\n",
    "    # Show the plot\n",
    "    plt.show()\n",
    "\n",
    "\n",
    "def detect_zigzag(df: pd.DataFrame, threshold: float) -> list[tuple]:\n",
    "    zigzag_points = []\n",
    "    last_pivot = 0\n",
    "    up_trend = True\n",
    "\n",
    "    for i in range(1, len(df)):\n",
    "        if up_trend:\n",
    "            if df[\"Low\"].iloc[i] <= df[\"Low\"].iloc[last_pivot]:\n",
    "                if zigzag_points:\n",
    "                    zigzag_points.pop()\n",
    "                zigzag_points.append(\n",
    "                    (\n",
    "                        df.index[i],\n",
    "                        df[\"Date\"].iloc[i],\n",
    "                        df[\"Low\"].iloc[i],\n",
    "                        df[\"High\"].iloc[i],\n",
    "                    )\n",
    "                )\n",
    "                last_pivot = i\n",
    "\n",
    "            elif df[\"High\"].iloc[i] / df[\"Low\"].iloc[last_pivot] - 1 >= threshold:\n",
    "                zigzag_points.append(\n",
    "                    (\n",
    "                        df.index[i],\n",
    "                        df[\"Date\"].iloc[i],\n",
    "                        df[\"Low\"].iloc[i],\n",
    "                        df[\"High\"].iloc[i],\n",
    "                    )\n",
    "                )\n",
    "                up_trend = False\n",
    "                last_pivot = i\n",
    "        else:\n",
    "            if df[\"High\"].iloc[i] >= df[\"High\"].iloc[last_pivot]:\n",
    "                if zigzag_points:\n",
    "                    zigzag_points.pop()\n",
    "                zigzag_points.append(\n",
    "                    (\n",
    "                        df.index[i],\n",
    "                        df[\"Date\"].iloc[i],\n",
    "                        df[\"Low\"].iloc[i],\n",
    "                        df[\"High\"].iloc[i],\n",
    "                    )\n",
    "                )\n",
    "                last_pivot = i\n",
    "\n",
    "            elif df[\"High\"].iloc[last_pivot] / df[\"Low\"].iloc[i] - 1 >= threshold:\n",
    "                zigzag_points.append(\n",
    "                    (\n",
    "                        df.index[i],\n",
    "                        df[\"Date\"].iloc[i],\n",
    "                        df[\"Low\"].iloc[i],\n",
    "                        df[\"High\"].iloc[i],\n",
    "                    )\n",
    "                )\n",
    "                up_trend = True\n",
    "                last_pivot = i\n",
    "\n",
    "    # return zigzag_points\n",
    "    return pd.DataFrame(zigzag_points, columns=[\"index\", \"Date\", \"Low\", \"High\"])"
   ]
  },
  {
   "cell_type": "code",
   "execution_count": 2,
   "metadata": {},
   "outputs": [],
   "source": [
    "df = fdr.DataReader(\"035420\", \"2022-10-09\", \"2023-03-10\").reset_index()[\n",
    "    [\"Date\", \"Open\", \"High\", \"Low\", \"Close\"]\n",
    "]\n",
    "\n",
    "idx_start = np.argmin(np.array(list(df[\"Low\"])))"
   ]
  },
  {
   "cell_type": "code",
   "execution_count": 3,
   "metadata": {},
   "outputs": [],
   "source": [
    "zigzag_df = detect_zigzag(df, 0.05)"
   ]
  },
  {
   "cell_type": "code",
   "execution_count": null,
   "metadata": {},
   "outputs": [],
   "source": [
    "wa = WaveAnalyzer.WaveAnalyzer(df=df, verbose=False)\n",
    "waves_up = wa.find_impulsive_wave(idx_start=idx_start)"
   ]
  },
  {
   "cell_type": "code",
   "execution_count": 11,
   "metadata": {},
   "outputs": [],
   "source": [
    "zig_zag_pattern = detect_zigzag(df, 0.1)"
   ]
  },
  {
   "cell_type": "code",
   "execution_count": 12,
   "metadata": {},
   "outputs": [],
   "source": [
    "wa = WaveAnalyzer.WaveAnalyzer(df=df, verbose=False)\n",
    "waves_up = wa.find_impulsive_wave_zigzag(zig_zag_pattern)"
   ]
  },
  {
   "cell_type": "code",
   "execution_count": 13,
   "metadata": {},
   "outputs": [
    {
     "data": {
      "text/plain": [
       "[<models.MonoWave.MonoWaveUp at 0x2a773d5b0>,\n",
       " <models.MonoWave.MonoWaveDown at 0x2a773d490>,\n",
       " <models.MonoWave.MonoWaveUp at 0x2a773d040>,\n",
       " <models.MonoWave.MonoWaveDown at 0x2a773d280>,\n",
       " <models.MonoWave.MonoWaveUp at 0x2a773d400>]"
      ]
     },
     "execution_count": 13,
     "metadata": {},
     "output_type": "execute_result"
    }
   ],
   "source": [
    "waves_up"
   ]
  },
  {
   "cell_type": "code",
   "execution_count": 14,
   "metadata": {},
   "outputs": [
    {
     "data": {
      "application/vnd.plotly.v1+json": {
       "config": {
        "plotlyServerURL": "https://plot.ly"
       },
       "data": [
        {
         "close": [
          158500,
          162000,
          158500,
          165500,
          167000,
          172500,
          168500,
          168500,
          166000,
          164000,
          165500,
          159500,
          161000,
          160000,
          169500,
          170500,
          174000,
          169000,
          174000,
          169000,
          177500,
          180000,
          176000,
          193500,
          188500,
          192000,
          189500,
          188000,
          185500,
          182500,
          180500,
          181500,
          188000,
          185000,
          180500,
          182500,
          187000,
          187500,
          185500,
          191500,
          185500,
          183500,
          185500,
          195000,
          193000,
          193000,
          193500,
          182500,
          180500,
          183500,
          180500,
          180000,
          184500,
          178000,
          178500,
          181000,
          180000,
          177500,
          179500,
          178500,
          182500,
          186000,
          185000,
          196500,
          193000,
          195000,
          194000,
          195000,
          200500,
          193500,
          195500,
          196000,
          196000,
          202000,
          204000,
          211500,
          207000,
          202500,
          205500,
          211500,
          223500,
          215500,
          219500,
          230500,
          230000,
          230000,
          223000,
          224000,
          215500,
          220500,
          215500,
          219000,
          215500,
          211500,
          213500,
          208000,
          208000,
          208500,
          206000,
          205500,
          214500,
          211000,
          202500,
          202000,
          199800
         ],
         "high": [
          159500,
          164500,
          161000,
          168500,
          168000,
          173000,
          173500,
          168500,
          168000,
          170000,
          167000,
          165000,
          162000,
          161000,
          170500,
          171000,
          177000,
          170500,
          174500,
          178000,
          179000,
          183000,
          180000,
          196500,
          194500,
          192500,
          194500,
          189500,
          190000,
          187500,
          184500,
          186000,
          188000,
          189000,
          184500,
          183500,
          187000,
          195000,
          190500,
          195000,
          190000,
          187500,
          186500,
          195000,
          196500,
          197000,
          195000,
          191000,
          182500,
          184000,
          184000,
          183000,
          185500,
          182000,
          180500,
          182500,
          183500,
          185000,
          180000,
          179500,
          183500,
          190000,
          187000,
          196500,
          196000,
          200500,
          199000,
          200500,
          201000,
          201000,
          196000,
          196500,
          201000,
          203500,
          204000,
          211500,
          214000,
          208500,
          208500,
          213500,
          225500,
          224500,
          220500,
          232000,
          230500,
          230500,
          231000,
          228500,
          224500,
          222500,
          219000,
          220000,
          220500,
          213500,
          214500,
          214000,
          209000,
          212000,
          209500,
          210500,
          214500,
          214500,
          209000,
          206000,
          201000
         ],
         "low": [
          156000,
          158000,
          155000,
          163000,
          160500,
          169000,
          168500,
          163000,
          164000,
          163000,
          164000,
          159000,
          156000,
          157000,
          161500,
          166500,
          169000,
          166000,
          167500,
          168000,
          171000,
          177500,
          176000,
          186000,
          188000,
          188000,
          187000,
          186500,
          184500,
          181000,
          179500,
          181000,
          182500,
          185000,
          180500,
          178500,
          180500,
          187500,
          185500,
          186500,
          185000,
          182500,
          181500,
          187000,
          190500,
          191000,
          191500,
          182500,
          177500,
          179500,
          179000,
          180000,
          180500,
          178000,
          177000,
          179000,
          178000,
          177500,
          176000,
          173500,
          177000,
          184000,
          182500,
          189000,
          190500,
          194500,
          194000,
          195000,
          195000,
          193500,
          193000,
          192500,
          195000,
          199600,
          199900,
          202000,
          206500,
          202000,
          202500,
          210500,
          210500,
          215500,
          215000,
          224000,
          224000,
          222000,
          220500,
          223000,
          215000,
          218000,
          212000,
          213500,
          215000,
          210500,
          211000,
          207000,
          204000,
          207500,
          205000,
          205500,
          208500,
          210500,
          202000,
          202000,
          197800
         ],
         "open": [
          156500,
          158500,
          160500,
          163500,
          162500,
          170500,
          172500,
          168000,
          165000,
          169000,
          164500,
          165000,
          159000,
          158000,
          163500,
          168000,
          170000,
          168500,
          167500,
          177000,
          172000,
          178500,
          177500,
          189000,
          194000,
          190000,
          194000,
          188000,
          187500,
          186000,
          181500,
          184000,
          183000,
          187000,
          184000,
          178500,
          181500,
          194500,
          188000,
          187000,
          189500,
          183000,
          184000,
          187500,
          192500,
          195500,
          194000,
          191000,
          178000,
          179500,
          182000,
          182500,
          182000,
          180500,
          178500,
          179500,
          179000,
          180000,
          179500,
          177000,
          177000,
          184500,
          185500,
          189500,
          193000,
          197500,
          198000,
          196000,
          197000,
          201000,
          194000,
          194000,
          195500,
          200500,
          202500,
          204500,
          212000,
          206000,
          204500,
          213000,
          214000,
          221000,
          216000,
          224500,
          224500,
          226000,
          231000,
          226500,
          224500,
          218000,
          216000,
          215500,
          220500,
          211500,
          212000,
          213500,
          204000,
          209500,
          207500,
          207500,
          208500,
          214000,
          208500,
          204500,
          198000
         ],
         "type": "candlestick",
         "x": [
          "2022-10-11T00:00:00",
          "2022-10-12T00:00:00",
          "2022-10-13T00:00:00",
          "2022-10-14T00:00:00",
          "2022-10-17T00:00:00",
          "2022-10-18T00:00:00",
          "2022-10-19T00:00:00",
          "2022-10-20T00:00:00",
          "2022-10-21T00:00:00",
          "2022-10-24T00:00:00",
          "2022-10-25T00:00:00",
          "2022-10-26T00:00:00",
          "2022-10-27T00:00:00",
          "2022-10-28T00:00:00",
          "2022-10-31T00:00:00",
          "2022-11-01T00:00:00",
          "2022-11-02T00:00:00",
          "2022-11-03T00:00:00",
          "2022-11-04T00:00:00",
          "2022-11-07T00:00:00",
          "2022-11-08T00:00:00",
          "2022-11-09T00:00:00",
          "2022-11-10T00:00:00",
          "2022-11-11T00:00:00",
          "2022-11-14T00:00:00",
          "2022-11-15T00:00:00",
          "2022-11-16T00:00:00",
          "2022-11-17T00:00:00",
          "2022-11-18T00:00:00",
          "2022-11-21T00:00:00",
          "2022-11-22T00:00:00",
          "2022-11-23T00:00:00",
          "2022-11-24T00:00:00",
          "2022-11-25T00:00:00",
          "2022-11-28T00:00:00",
          "2022-11-29T00:00:00",
          "2022-11-30T00:00:00",
          "2022-12-01T00:00:00",
          "2022-12-02T00:00:00",
          "2022-12-05T00:00:00",
          "2022-12-06T00:00:00",
          "2022-12-07T00:00:00",
          "2022-12-08T00:00:00",
          "2022-12-09T00:00:00",
          "2022-12-12T00:00:00",
          "2022-12-13T00:00:00",
          "2022-12-14T00:00:00",
          "2022-12-15T00:00:00",
          "2022-12-16T00:00:00",
          "2022-12-19T00:00:00",
          "2022-12-20T00:00:00",
          "2022-12-21T00:00:00",
          "2022-12-22T00:00:00",
          "2022-12-23T00:00:00",
          "2022-12-26T00:00:00",
          "2022-12-27T00:00:00",
          "2022-12-28T00:00:00",
          "2022-12-29T00:00:00",
          "2023-01-02T00:00:00",
          "2023-01-03T00:00:00",
          "2023-01-04T00:00:00",
          "2023-01-05T00:00:00",
          "2023-01-06T00:00:00",
          "2023-01-09T00:00:00",
          "2023-01-10T00:00:00",
          "2023-01-11T00:00:00",
          "2023-01-12T00:00:00",
          "2023-01-13T00:00:00",
          "2023-01-16T00:00:00",
          "2023-01-17T00:00:00",
          "2023-01-18T00:00:00",
          "2023-01-19T00:00:00",
          "2023-01-20T00:00:00",
          "2023-01-25T00:00:00",
          "2023-01-26T00:00:00",
          "2023-01-27T00:00:00",
          "2023-01-30T00:00:00",
          "2023-01-31T00:00:00",
          "2023-02-01T00:00:00",
          "2023-02-02T00:00:00",
          "2023-02-03T00:00:00",
          "2023-02-06T00:00:00",
          "2023-02-07T00:00:00",
          "2023-02-08T00:00:00",
          "2023-02-09T00:00:00",
          "2023-02-10T00:00:00",
          "2023-02-13T00:00:00",
          "2023-02-14T00:00:00",
          "2023-02-15T00:00:00",
          "2023-02-16T00:00:00",
          "2023-02-17T00:00:00",
          "2023-02-20T00:00:00",
          "2023-02-21T00:00:00",
          "2023-02-22T00:00:00",
          "2023-02-23T00:00:00",
          "2023-02-24T00:00:00",
          "2023-02-27T00:00:00",
          "2023-02-28T00:00:00",
          "2023-03-02T00:00:00",
          "2023-03-03T00:00:00",
          "2023-03-06T00:00:00",
          "2023-03-07T00:00:00",
          "2023-03-08T00:00:00",
          "2023-03-09T00:00:00",
          "2023-03-10T00:00:00"
         ]
        },
        {
         "line": {
          "color": "rgb(111, 126, 130)",
          "width": 3
         },
         "mode": "lines+markers+text",
         "text": [
          " ",
          "1",
          " ",
          "2 (0.444)",
          " ",
          "3 (0.457)",
          " ",
          "4",
          " ",
          "5"
         ],
         "textfont": {
          "color": "#2c3035",
          "size": 15
         },
         "textposition": "middle right",
         "type": "scatter",
         "x": [
          "2022-10-27T00:00:00",
          "2022-11-11T00:00:00",
          "2022-11-11T00:00:00",
          "2022-11-29T00:00:00",
          "2022-11-29T00:00:00",
          "2022-12-13T00:00:00",
          "2022-12-13T00:00:00",
          "2023-01-03T00:00:00",
          "2023-01-03T00:00:00",
          "2023-02-08T00:00:00"
         ],
         "y": [
          156000,
          196500,
          196500,
          178500,
          178500,
          197000,
          197000,
          173500,
          173500,
          232000
         ]
        }
       ],
       "layout": {
        "template": {
         "data": {
          "bar": [
           {
            "error_x": {
             "color": "#2a3f5f"
            },
            "error_y": {
             "color": "#2a3f5f"
            },
            "marker": {
             "line": {
              "color": "#E5ECF6",
              "width": 0.5
             },
             "pattern": {
              "fillmode": "overlay",
              "size": 10,
              "solidity": 0.2
             }
            },
            "type": "bar"
           }
          ],
          "barpolar": [
           {
            "marker": {
             "line": {
              "color": "#E5ECF6",
              "width": 0.5
             },
             "pattern": {
              "fillmode": "overlay",
              "size": 10,
              "solidity": 0.2
             }
            },
            "type": "barpolar"
           }
          ],
          "carpet": [
           {
            "aaxis": {
             "endlinecolor": "#2a3f5f",
             "gridcolor": "white",
             "linecolor": "white",
             "minorgridcolor": "white",
             "startlinecolor": "#2a3f5f"
            },
            "baxis": {
             "endlinecolor": "#2a3f5f",
             "gridcolor": "white",
             "linecolor": "white",
             "minorgridcolor": "white",
             "startlinecolor": "#2a3f5f"
            },
            "type": "carpet"
           }
          ],
          "choropleth": [
           {
            "colorbar": {
             "outlinewidth": 0,
             "ticks": ""
            },
            "type": "choropleth"
           }
          ],
          "contour": [
           {
            "colorbar": {
             "outlinewidth": 0,
             "ticks": ""
            },
            "colorscale": [
             [
              0,
              "#0d0887"
             ],
             [
              0.1111111111111111,
              "#46039f"
             ],
             [
              0.2222222222222222,
              "#7201a8"
             ],
             [
              0.3333333333333333,
              "#9c179e"
             ],
             [
              0.4444444444444444,
              "#bd3786"
             ],
             [
              0.5555555555555556,
              "#d8576b"
             ],
             [
              0.6666666666666666,
              "#ed7953"
             ],
             [
              0.7777777777777778,
              "#fb9f3a"
             ],
             [
              0.8888888888888888,
              "#fdca26"
             ],
             [
              1,
              "#f0f921"
             ]
            ],
            "type": "contour"
           }
          ],
          "contourcarpet": [
           {
            "colorbar": {
             "outlinewidth": 0,
             "ticks": ""
            },
            "type": "contourcarpet"
           }
          ],
          "heatmap": [
           {
            "colorbar": {
             "outlinewidth": 0,
             "ticks": ""
            },
            "colorscale": [
             [
              0,
              "#0d0887"
             ],
             [
              0.1111111111111111,
              "#46039f"
             ],
             [
              0.2222222222222222,
              "#7201a8"
             ],
             [
              0.3333333333333333,
              "#9c179e"
             ],
             [
              0.4444444444444444,
              "#bd3786"
             ],
             [
              0.5555555555555556,
              "#d8576b"
             ],
             [
              0.6666666666666666,
              "#ed7953"
             ],
             [
              0.7777777777777778,
              "#fb9f3a"
             ],
             [
              0.8888888888888888,
              "#fdca26"
             ],
             [
              1,
              "#f0f921"
             ]
            ],
            "type": "heatmap"
           }
          ],
          "heatmapgl": [
           {
            "colorbar": {
             "outlinewidth": 0,
             "ticks": ""
            },
            "colorscale": [
             [
              0,
              "#0d0887"
             ],
             [
              0.1111111111111111,
              "#46039f"
             ],
             [
              0.2222222222222222,
              "#7201a8"
             ],
             [
              0.3333333333333333,
              "#9c179e"
             ],
             [
              0.4444444444444444,
              "#bd3786"
             ],
             [
              0.5555555555555556,
              "#d8576b"
             ],
             [
              0.6666666666666666,
              "#ed7953"
             ],
             [
              0.7777777777777778,
              "#fb9f3a"
             ],
             [
              0.8888888888888888,
              "#fdca26"
             ],
             [
              1,
              "#f0f921"
             ]
            ],
            "type": "heatmapgl"
           }
          ],
          "histogram": [
           {
            "marker": {
             "pattern": {
              "fillmode": "overlay",
              "size": 10,
              "solidity": 0.2
             }
            },
            "type": "histogram"
           }
          ],
          "histogram2d": [
           {
            "colorbar": {
             "outlinewidth": 0,
             "ticks": ""
            },
            "colorscale": [
             [
              0,
              "#0d0887"
             ],
             [
              0.1111111111111111,
              "#46039f"
             ],
             [
              0.2222222222222222,
              "#7201a8"
             ],
             [
              0.3333333333333333,
              "#9c179e"
             ],
             [
              0.4444444444444444,
              "#bd3786"
             ],
             [
              0.5555555555555556,
              "#d8576b"
             ],
             [
              0.6666666666666666,
              "#ed7953"
             ],
             [
              0.7777777777777778,
              "#fb9f3a"
             ],
             [
              0.8888888888888888,
              "#fdca26"
             ],
             [
              1,
              "#f0f921"
             ]
            ],
            "type": "histogram2d"
           }
          ],
          "histogram2dcontour": [
           {
            "colorbar": {
             "outlinewidth": 0,
             "ticks": ""
            },
            "colorscale": [
             [
              0,
              "#0d0887"
             ],
             [
              0.1111111111111111,
              "#46039f"
             ],
             [
              0.2222222222222222,
              "#7201a8"
             ],
             [
              0.3333333333333333,
              "#9c179e"
             ],
             [
              0.4444444444444444,
              "#bd3786"
             ],
             [
              0.5555555555555556,
              "#d8576b"
             ],
             [
              0.6666666666666666,
              "#ed7953"
             ],
             [
              0.7777777777777778,
              "#fb9f3a"
             ],
             [
              0.8888888888888888,
              "#fdca26"
             ],
             [
              1,
              "#f0f921"
             ]
            ],
            "type": "histogram2dcontour"
           }
          ],
          "mesh3d": [
           {
            "colorbar": {
             "outlinewidth": 0,
             "ticks": ""
            },
            "type": "mesh3d"
           }
          ],
          "parcoords": [
           {
            "line": {
             "colorbar": {
              "outlinewidth": 0,
              "ticks": ""
             }
            },
            "type": "parcoords"
           }
          ],
          "pie": [
           {
            "automargin": true,
            "type": "pie"
           }
          ],
          "scatter": [
           {
            "fillpattern": {
             "fillmode": "overlay",
             "size": 10,
             "solidity": 0.2
            },
            "type": "scatter"
           }
          ],
          "scatter3d": [
           {
            "line": {
             "colorbar": {
              "outlinewidth": 0,
              "ticks": ""
             }
            },
            "marker": {
             "colorbar": {
              "outlinewidth": 0,
              "ticks": ""
             }
            },
            "type": "scatter3d"
           }
          ],
          "scattercarpet": [
           {
            "marker": {
             "colorbar": {
              "outlinewidth": 0,
              "ticks": ""
             }
            },
            "type": "scattercarpet"
           }
          ],
          "scattergeo": [
           {
            "marker": {
             "colorbar": {
              "outlinewidth": 0,
              "ticks": ""
             }
            },
            "type": "scattergeo"
           }
          ],
          "scattergl": [
           {
            "marker": {
             "colorbar": {
              "outlinewidth": 0,
              "ticks": ""
             }
            },
            "type": "scattergl"
           }
          ],
          "scattermapbox": [
           {
            "marker": {
             "colorbar": {
              "outlinewidth": 0,
              "ticks": ""
             }
            },
            "type": "scattermapbox"
           }
          ],
          "scatterpolar": [
           {
            "marker": {
             "colorbar": {
              "outlinewidth": 0,
              "ticks": ""
             }
            },
            "type": "scatterpolar"
           }
          ],
          "scatterpolargl": [
           {
            "marker": {
             "colorbar": {
              "outlinewidth": 0,
              "ticks": ""
             }
            },
            "type": "scatterpolargl"
           }
          ],
          "scatterternary": [
           {
            "marker": {
             "colorbar": {
              "outlinewidth": 0,
              "ticks": ""
             }
            },
            "type": "scatterternary"
           }
          ],
          "surface": [
           {
            "colorbar": {
             "outlinewidth": 0,
             "ticks": ""
            },
            "colorscale": [
             [
              0,
              "#0d0887"
             ],
             [
              0.1111111111111111,
              "#46039f"
             ],
             [
              0.2222222222222222,
              "#7201a8"
             ],
             [
              0.3333333333333333,
              "#9c179e"
             ],
             [
              0.4444444444444444,
              "#bd3786"
             ],
             [
              0.5555555555555556,
              "#d8576b"
             ],
             [
              0.6666666666666666,
              "#ed7953"
             ],
             [
              0.7777777777777778,
              "#fb9f3a"
             ],
             [
              0.8888888888888888,
              "#fdca26"
             ],
             [
              1,
              "#f0f921"
             ]
            ],
            "type": "surface"
           }
          ],
          "table": [
           {
            "cells": {
             "fill": {
              "color": "#EBF0F8"
             },
             "line": {
              "color": "white"
             }
            },
            "header": {
             "fill": {
              "color": "#C8D4E3"
             },
             "line": {
              "color": "white"
             }
            },
            "type": "table"
           }
          ]
         },
         "layout": {
          "annotationdefaults": {
           "arrowcolor": "#2a3f5f",
           "arrowhead": 0,
           "arrowwidth": 1
          },
          "autotypenumbers": "strict",
          "coloraxis": {
           "colorbar": {
            "outlinewidth": 0,
            "ticks": ""
           }
          },
          "colorscale": {
           "diverging": [
            [
             0,
             "#8e0152"
            ],
            [
             0.1,
             "#c51b7d"
            ],
            [
             0.2,
             "#de77ae"
            ],
            [
             0.3,
             "#f1b6da"
            ],
            [
             0.4,
             "#fde0ef"
            ],
            [
             0.5,
             "#f7f7f7"
            ],
            [
             0.6,
             "#e6f5d0"
            ],
            [
             0.7,
             "#b8e186"
            ],
            [
             0.8,
             "#7fbc41"
            ],
            [
             0.9,
             "#4d9221"
            ],
            [
             1,
             "#276419"
            ]
           ],
           "sequential": [
            [
             0,
             "#0d0887"
            ],
            [
             0.1111111111111111,
             "#46039f"
            ],
            [
             0.2222222222222222,
             "#7201a8"
            ],
            [
             0.3333333333333333,
             "#9c179e"
            ],
            [
             0.4444444444444444,
             "#bd3786"
            ],
            [
             0.5555555555555556,
             "#d8576b"
            ],
            [
             0.6666666666666666,
             "#ed7953"
            ],
            [
             0.7777777777777778,
             "#fb9f3a"
            ],
            [
             0.8888888888888888,
             "#fdca26"
            ],
            [
             1,
             "#f0f921"
            ]
           ],
           "sequentialminus": [
            [
             0,
             "#0d0887"
            ],
            [
             0.1111111111111111,
             "#46039f"
            ],
            [
             0.2222222222222222,
             "#7201a8"
            ],
            [
             0.3333333333333333,
             "#9c179e"
            ],
            [
             0.4444444444444444,
             "#bd3786"
            ],
            [
             0.5555555555555556,
             "#d8576b"
            ],
            [
             0.6666666666666666,
             "#ed7953"
            ],
            [
             0.7777777777777778,
             "#fb9f3a"
            ],
            [
             0.8888888888888888,
             "#fdca26"
            ],
            [
             1,
             "#f0f921"
            ]
           ]
          },
          "colorway": [
           "#636efa",
           "#EF553B",
           "#00cc96",
           "#ab63fa",
           "#FFA15A",
           "#19d3f3",
           "#FF6692",
           "#B6E880",
           "#FF97FF",
           "#FECB52"
          ],
          "font": {
           "color": "#2a3f5f"
          },
          "geo": {
           "bgcolor": "white",
           "lakecolor": "white",
           "landcolor": "#E5ECF6",
           "showlakes": true,
           "showland": true,
           "subunitcolor": "white"
          },
          "hoverlabel": {
           "align": "left"
          },
          "hovermode": "closest",
          "mapbox": {
           "style": "light"
          },
          "paper_bgcolor": "white",
          "plot_bgcolor": "#E5ECF6",
          "polar": {
           "angularaxis": {
            "gridcolor": "white",
            "linecolor": "white",
            "ticks": ""
           },
           "bgcolor": "#E5ECF6",
           "radialaxis": {
            "gridcolor": "white",
            "linecolor": "white",
            "ticks": ""
           }
          },
          "scene": {
           "xaxis": {
            "backgroundcolor": "#E5ECF6",
            "gridcolor": "white",
            "gridwidth": 2,
            "linecolor": "white",
            "showbackground": true,
            "ticks": "",
            "zerolinecolor": "white"
           },
           "yaxis": {
            "backgroundcolor": "#E5ECF6",
            "gridcolor": "white",
            "gridwidth": 2,
            "linecolor": "white",
            "showbackground": true,
            "ticks": "",
            "zerolinecolor": "white"
           },
           "zaxis": {
            "backgroundcolor": "#E5ECF6",
            "gridcolor": "white",
            "gridwidth": 2,
            "linecolor": "white",
            "showbackground": true,
            "ticks": "",
            "zerolinecolor": "white"
           }
          },
          "shapedefaults": {
           "line": {
            "color": "#2a3f5f"
           }
          },
          "ternary": {
           "aaxis": {
            "gridcolor": "white",
            "linecolor": "white",
            "ticks": ""
           },
           "baxis": {
            "gridcolor": "white",
            "linecolor": "white",
            "ticks": ""
           },
           "bgcolor": "#E5ECF6",
           "caxis": {
            "gridcolor": "white",
            "linecolor": "white",
            "ticks": ""
           }
          },
          "title": {
           "x": 0.05
          },
          "xaxis": {
           "automargin": true,
           "gridcolor": "white",
           "linecolor": "white",
           "ticks": "",
           "title": {
            "standoff": 15
           },
           "zerolinecolor": "white",
           "zerolinewidth": 2
          },
          "yaxis": {
           "automargin": true,
           "gridcolor": "white",
           "linecolor": "white",
           "ticks": "",
           "title": {
            "standoff": 15
           },
           "zerolinecolor": "white",
           "zerolinewidth": 2
          }
         }
        },
        "title": {
         "text": ""
        },
        "xaxis": {
         "rangebreaks": [
          {
           "values": [
            "2022-10-15",
            "2022-10-16",
            "2022-10-22",
            "2022-10-23",
            "2022-10-29",
            "2022-10-30",
            "2022-11-05",
            "2022-11-06",
            "2022-11-12",
            "2022-11-13",
            "2022-11-19",
            "2022-11-20",
            "2022-11-26",
            "2022-11-27",
            "2022-12-03",
            "2022-12-04",
            "2022-12-10",
            "2022-12-11",
            "2022-12-17",
            "2022-12-18",
            "2022-12-24",
            "2022-12-25",
            "2022-12-30",
            "2022-12-31",
            "2023-01-01",
            "2023-01-07",
            "2023-01-08",
            "2023-01-14",
            "2023-01-15",
            "2023-01-21",
            "2023-01-22",
            "2023-01-23",
            "2023-01-24",
            "2023-01-28",
            "2023-01-29",
            "2023-02-04",
            "2023-02-05",
            "2023-02-11",
            "2023-02-12",
            "2023-02-18",
            "2023-02-19",
            "2023-02-25",
            "2023-02-26",
            "2023-03-01",
            "2023-03-04",
            "2023-03-05"
           ]
          }
         ],
         "rangeslider": {
          "visible": false
         }
        }
       }
      }
     },
     "metadata": {},
     "output_type": "display_data"
    }
   ],
   "source": [
    "import models.helpers as helpers\n",
    "\n",
    "wavepattern_up = WavePattern.WavePattern(waves_up, verbose=True)\n",
    "\n",
    "helpers.plot_pattern(df, wavepattern_up)"
   ]
  },
  {
   "cell_type": "code",
   "execution_count": null,
   "metadata": {},
   "outputs": [],
   "source": []
  },
  {
   "cell_type": "code",
   "execution_count": null,
   "metadata": {},
   "outputs": [],
   "source": []
  },
  {
   "cell_type": "code",
   "execution_count": null,
   "metadata": {},
   "outputs": [],
   "source": [
    "plot_graph(df, 0.01)"
   ]
  },
  {
   "cell_type": "code",
   "execution_count": null,
   "metadata": {},
   "outputs": [],
   "source": [
    "wa = WaveAnalyzer.WaveAnalyzer(df=df, verbose=False)\n",
    "waves_up = wa.find_impulsive_wave(idx_start=idx_start)"
   ]
  },
  {
   "cell_type": "code",
   "execution_count": null,
   "metadata": {},
   "outputs": [],
   "source": [
    "wa"
   ]
  },
  {
   "cell_type": "code",
   "execution_count": null,
   "metadata": {},
   "outputs": [],
   "source": []
  },
  {
   "cell_type": "code",
   "execution_count": null,
   "metadata": {},
   "outputs": [],
   "source": []
  },
  {
   "cell_type": "code",
   "execution_count": null,
   "metadata": {},
   "outputs": [],
   "source": []
  },
  {
   "cell_type": "code",
   "execution_count": null,
   "metadata": {},
   "outputs": [],
   "source": [
    "wa = WaveAnalyzer(df=df, verbose=False)\n",
    "wave_options_impulse = WaveOptionsGeneratorCustom5(\n",
    "    up_to=5\n",
    ")  # generates WaveOptions up to [15, 15, 15, 15, 15]\n",
    "\n",
    "# impulse = Impulse(\"impulse\")\n",
    "# leading_diagonal = LeadingDiagonal(\"leading diagonal\")\n",
    "# correction = Correction(\"correction\")\n",
    "# tdwave = TDWave(\"TD Wave\")\n",
    "impulse_custom = WaveRules.ImpulseCustom(\"impulse_custom\")\n",
    "# rules_to_check = [impulse, leading_diagonal, correction, tdwave]\n",
    "rules_to_check = [impulse_custom]\n",
    "\n",
    "print(f\"Start at idx: {idx_start}\")\n",
    "print(f\"will run up to {wave_options_impulse.number / 1e6}M combinations.\")\n",
    "\n",
    "# set up a set to store already found wave counts\n",
    "# it can be the case, that 2 WaveOptions lead to the same WavePattern.\n",
    "# This can be seen in a chart, where for example we try to skip more maxima as there are. In such a case\n",
    "# e.g. [1,2,3,4,5] and [1,2,3,4,10] will lead to the same WavePattern (has same sub-wave structure, same begin / end,\n",
    "# same high / low etc.\n",
    "# If we find the same WavePattern, we skip and do not plot it\n",
    "\n",
    "wavepatterns_up = set()\n",
    "\n",
    "# loop over all combinations of wave options [i,j,k,l,m] for impulsive waves sorted from small, e.g.  [0,1,...] to\n",
    "# large e.g. [3,2, ...]\n",
    "for new_option_impulse in wave_options_impulse.options_sorted:\n",
    "    waves_up = wa.find_impulsive_wave(\n",
    "        idx_start=idx_start, wave_config=new_option_impulse.values\n",
    "    )\n",
    "    # print(new_option_impulse)\n",
    "    if waves_up:\n",
    "        wavepattern_up = WavePattern(waves_up, verbose=True)\n",
    "\n",
    "        for rule in rules_to_check:\n",
    "            if wavepattern_up.check_rule(rule):\n",
    "                if wavepattern_up in wavepatterns_up:\n",
    "                    print(\"SKIPPING\")\n",
    "                    continue\n",
    "                else:\n",
    "                    wavepatterns_up.add(wavepattern_up)\n",
    "                    print(f\"{rule.name} found: {new_option_impulse.values}\")\n",
    "                    fig = plot_pattern(\n",
    "                        df=df,\n",
    "                        wave_pattern=wavepattern_up,\n",
    "                        title=str(new_option_impulse),\n",
    "                    )\n",
    "                    if fig:\n",
    "                        fig.show()\n",
    "            # else:\n",
    "            # plot_pattern(\n",
    "            #     df=df,\n",
    "            #     wave_pattern=wavepattern_up,\n",
    "            #     title=str(new_option_impulse),\n",
    "            # )"
   ]
  },
  {
   "cell_type": "code",
   "execution_count": null,
   "metadata": {},
   "outputs": [],
   "source": [
    "wave_configs = [\n",
    "    [2, 0, 1, 0, 0],\n",
    "    [2, 0, 2, 0, 0],\n",
    "    [2, 0, 3, 0, 0],\n",
    "]\n",
    "\n",
    "for wave_config in wave_configs:\n",
    "    waves_up = wa.find_impulsive_wave(idx_start=idx_start, wave_config=wave_config)\n",
    "\n",
    "    if waves_up:\n",
    "        wavepattern_up = WavePattern(waves_up, verbose=True)\n",
    "\n",
    "        for rule in rules_to_check:\n",
    "            if wavepattern_up.check_rule(rule):\n",
    "                if wavepattern_up in wavepatterns_up:\n",
    "                    print(\"SKIPPING\")\n",
    "                    plot_pattern(\n",
    "                        df=df,\n",
    "                        wave_pattern=wavepattern_up,\n",
    "                        title=str(wave_config),\n",
    "                    )\n",
    "                    continue\n",
    "                else:\n",
    "                    wavepatterns_up.add(wavepattern_up)\n",
    "                    print(f\"{rule.name} found: {wave_config}\")\n",
    "                    plot_pattern(\n",
    "                        df=df,\n",
    "                        wave_pattern=wavepattern_up,\n",
    "                        title=str(new_option_impulse),\n",
    "                    )\n",
    "            else:\n",
    "                plot_pattern(\n",
    "                    df=df,\n",
    "                    wave_pattern=wavepattern_up,\n",
    "                    title=str(new_option_impulse),\n",
    "                )"
   ]
  },
  {
   "cell_type": "code",
   "execution_count": null,
   "metadata": {},
   "outputs": [],
   "source": [
    "import math\n",
    "\n",
    "\n",
    "def calculate_price_changes(prices):\n",
    "    \"\"\"주어진 가격 리스트로부터 가격 변동을 계산합니다.\"\"\"\n",
    "    return [prices[i] - prices[i - 1] for i in range(1, len(prices))]\n",
    "\n",
    "\n",
    "def calculate_average_price_change(prices):\n",
    "    \"\"\"가격 변동의 평균을 계산합니다.\"\"\"\n",
    "    price_changes = calculate_price_changes(prices)\n",
    "    return sum(price_changes) / len(price_changes)\n",
    "\n",
    "\n",
    "def normalize_prices(prices):\n",
    "    \"\"\"평균 가격 변동을 기준으로 가격 데이터를 정규화합니다.\"\"\"\n",
    "    average_change = calculate_average_price_change(prices)\n",
    "    return [price / average_change for price in prices]\n",
    "\n",
    "\n",
    "def calculate_diagonal_distance(prices, start_day, end_day):\n",
    "    \"\"\"\n",
    "    정규화된 시간과 가격 데이터를 사용하여 두 시점 사이의 대각선 거리를 계산합니다.\n",
    "    \"\"\"\n",
    "    normalized_prices = normalize_prices(prices)\n",
    "    time_difference = end_day - start_day\n",
    "    price_difference = normalized_prices[end_day - 1] - normalized_prices[start_day - 1]\n",
    "    return math.sqrt(time_difference**2 + price_difference**2)\n",
    "\n",
    "\n",
    "# 예제 가격 데이터\n",
    "example_prices = [1000, 1100, 1050, 1200, 1150]\n",
    "\n",
    "# 1일과 5일 사이의 대각선 거리 계산\n",
    "diagonal_distance_example = calculate_diagonal_distance(example_prices, 1, 5)\n",
    "diagonal_distance_example"
   ]
  },
  {
   "cell_type": "code",
   "execution_count": null,
   "metadata": {},
   "outputs": [],
   "source": []
  },
  {
   "cell_type": "code",
   "execution_count": null,
   "metadata": {},
   "outputs": [],
   "source": []
  },
  {
   "cell_type": "code",
   "execution_count": null,
   "metadata": {},
   "outputs": [],
   "source": []
  },
  {
   "cell_type": "code",
   "execution_count": null,
   "metadata": {},
   "outputs": [],
   "source": [
    "wave_config = [2, 0, 2, 0, 0]\n",
    "waves_up = wa.find_impulsive_wave(idx_start=idx_start, wave_config=wave_config)\n",
    "\n",
    "if waves_up:\n",
    "    wavepattern_up = WavePattern(waves_up, verbose=True)\n",
    "\n",
    "    for rule in rules_to_check:\n",
    "        if wavepattern_up.check_rule(rule):\n",
    "            if wavepattern_up in wavepatterns_up:\n",
    "                print(\"SKIPPING\")\n",
    "                plot_pattern(\n",
    "                    df=df,\n",
    "                    wave_pattern=wavepattern_up,\n",
    "                    title=str(wave_config),\n",
    "                )\n",
    "                continue\n",
    "            else:\n",
    "                wavepatterns_up.add(wavepattern_up)\n",
    "                print(f\"{rule.name} found: {wave_config}\")\n",
    "                plot_pattern(\n",
    "                    df=df,\n",
    "                    wave_pattern=wavepattern_up,\n",
    "                    title=str(new_option_impulse),\n",
    "                )\n",
    "        else:\n",
    "            plot_pattern(\n",
    "                df=df,\n",
    "                wave_pattern=wavepattern_up,\n",
    "                title=str(new_option_impulse),\n",
    "            )"
   ]
  },
  {
   "cell_type": "code",
   "execution_count": null,
   "metadata": {},
   "outputs": [],
   "source": []
  },
  {
   "cell_type": "code",
   "execution_count": null,
   "metadata": {},
   "outputs": [],
   "source": []
  },
  {
   "cell_type": "code",
   "execution_count": null,
   "metadata": {},
   "outputs": [],
   "source": []
  },
  {
   "cell_type": "code",
   "execution_count": null,
   "metadata": {},
   "outputs": [],
   "source": []
  },
  {
   "cell_type": "code",
   "execution_count": null,
   "metadata": {},
   "outputs": [],
   "source": []
  },
  {
   "cell_type": "code",
   "execution_count": null,
   "metadata": {},
   "outputs": [],
   "source": [
    "def calculate_fibonacci_level(low, high, fib_ratio, mode=\"low_to_high\"):\n",
    "    \"\"\"\n",
    "    Calculate the Fibonacci level based on a given ratio and mode.\n",
    "\n",
    "    :param low: The low point of the wave.\n",
    "    :param high: The high point of the wave.\n",
    "    :param fib_ratio: The Fibonacci ratio to apply.\n",
    "    :param mode: The mode of calculation ('low_to_high' or 'high_to_low').\n",
    "    :return: The calculated Fibonacci level.\n",
    "    \"\"\"\n",
    "    if mode == \"low_to_high\":\n",
    "        return low + (high - low) * fib_ratio\n",
    "    elif mode == \"high_to_low\":\n",
    "        return high - (high - low) * fib_ratio\n",
    "    else:\n",
    "        raise ValueError(\"Invalid mode. Use 'low_to_high' or 'high_to_low'.\")\n",
    "\n",
    "\n",
    "# 예제 사용\n",
    "low_point = 100\n",
    "high_point = 200\n",
    "fibonacci_ratio = 0.618  # 피보나치 비율 예시\n",
    "\n",
    "# 저점에서 고점까지 계산\n",
    "fibonacci_level_low_to_high = calculate_fibonacci_level(\n",
    "    low_point, high_point, fibonacci_ratio, \"low_to_high\"\n",
    ")\n",
    "print(\n",
    "    f\"Low to High Fibonacci level at ratio {fibonacci_ratio} is: {fibonacci_level_low_to_high}\"\n",
    ")\n",
    "\n",
    "# 고점에서 저점까지 계산\n",
    "fibonacci_level_high_to_low = calculate_fibonacci_level(\n",
    "    low_point, high_point, fibonacci_ratio, \"high_to_low\"\n",
    ")\n",
    "print(\n",
    "    f\"High to Low Fibonacci level at ratio {fibonacci_ratio} is: {fibonacci_level_high_to_low}\"\n",
    ")"
   ]
  },
  {
   "cell_type": "code",
   "execution_count": null,
   "metadata": {},
   "outputs": [],
   "source": [
    "fibonacci_ratio = 0.3\n",
    "fibonacci_level_high_to_low = calculate_fibonacci_level(\n",
    "    low_point, high_point, fibonacci_ratio, \"high_to_low\"\n",
    ")\n",
    "print(\n",
    "    f\"High to Low Fibonacci level at ratio {fibonacci_ratio} is: {fibonacci_level_high_to_low}\"\n",
    ")"
   ]
  },
  {
   "cell_type": "code",
   "execution_count": null,
   "metadata": {},
   "outputs": [],
   "source": [
    "import FinanceDataReader as fdr\n",
    "\n",
    "df = fdr.DataReader(\"454910\", \"2023-10-25\", \"2023-12-23\").reset_index()[\n",
    "    [\"Date\", \"Open\", \"High\", \"Low\", \"Close\"]\n",
    "]"
   ]
  },
  {
   "cell_type": "code",
   "execution_count": null,
   "metadata": {},
   "outputs": [],
   "source": [
    "df.to_csv(\"test.csv\")"
   ]
  },
  {
   "cell_type": "code",
   "execution_count": null,
   "metadata": {},
   "outputs": [],
   "source": [
    "32150\t48500\t16350\n",
    "76900\t97900\t21000"
   ]
  },
  {
   "cell_type": "code",
   "execution_count": null,
   "metadata": {},
   "outputs": [],
   "source": [
    "wave1 = {\n",
    "    \"duration\": 9,\n",
    "    \"points\": (32150, 48500),\n",
    "}\n",
    "\n",
    "wave2 = {\n",
    "    \"duration\": 3,\n",
    "    \"points\": (76900, 97900),\n",
    "}"
   ]
  },
  {
   "cell_type": "code",
   "execution_count": null,
   "metadata": {},
   "outputs": [],
   "source": [
    "width1 = wave1[\"duration\"]\n",
    "width2 = wave2[\"duration\"]\n",
    "print(width1, width2)\n",
    "\n",
    "height1 = abs(wave1[\"points\"][1] - wave1[\"points\"][0])\n",
    "height2 = abs(wave2[\"points\"][1] - wave2[\"points\"][0])\n",
    "print(height1, height2)\n",
    "\n",
    "low_y = min(wave1[\"points\"][0], wave2[\"points\"][0])\n",
    "high_y = max(wave1[\"points\"][1], wave2[\"points\"][1])\n",
    "\n",
    "\n",
    "# print(total_height)"
   ]
  },
  {
   "cell_type": "code",
   "execution_count": null,
   "metadata": {},
   "outputs": [],
   "source": [
    "import math\n",
    "\n",
    "min_x = min(width1, width2)\n",
    "total_height = high_y - low_y\n",
    "\n",
    "x1 = width1 / min_x\n",
    "x2 = width2 / min_x\n",
    "y1 = height1 / total_height * 100\n",
    "y2 = height2 / total_height * 100\n",
    "\n",
    "y_to_x_ratio = min(y1, y2) / max_x\n",
    "\n",
    "y1 /= y_to_x_ratio\n",
    "y2 /= y_to_x_ratio\n",
    "\n",
    "len1 = math.sqrt(x1**2 + y1**2)\n",
    "len2 = math.sqrt(x2**2 + y2**2)\n",
    "\n",
    "len1, len2"
   ]
  },
  {
   "cell_type": "code",
   "execution_count": null,
   "metadata": {},
   "outputs": [],
   "source": [
    "len1 / len2"
   ]
  },
  {
   "cell_type": "code",
   "execution_count": null,
   "metadata": {},
   "outputs": [],
   "source": [
    "x1 = width1 / min_x\n",
    "x2 = width2 / min_x\n",
    "print(x1, x2)\n",
    "max_x = max(x1, x2)\n",
    "max_x"
   ]
  },
  {
   "cell_type": "code",
   "execution_count": null,
   "metadata": {},
   "outputs": [],
   "source": [
    "y1 = height1 / total_height * 100\n",
    "y2 = height2 / total_height * 100\n",
    "y1, y2"
   ]
  },
  {
   "cell_type": "code",
   "execution_count": null,
   "metadata": {},
   "outputs": [],
   "source": [
    "y_to_x_ratio = min(y1, y2) / max_x\n",
    "y_to_x_ratio"
   ]
  },
  {
   "cell_type": "code",
   "execution_count": null,
   "metadata": {},
   "outputs": [],
   "source": [
    "y1 /= y_to_x_ratio\n",
    "y2 /= y_to_x_ratio"
   ]
  },
  {
   "cell_type": "code",
   "execution_count": null,
   "metadata": {},
   "outputs": [],
   "source": [
    "y1, y2"
   ]
  },
  {
   "cell_type": "code",
   "execution_count": null,
   "metadata": {},
   "outputs": [],
   "source": [
    "import math\n",
    "\n",
    "len1 = math.sqrt(x1**2 + y1**2)\n",
    "len2 = math.sqrt(x2**2 + y2**2)"
   ]
  },
  {
   "cell_type": "code",
   "execution_count": null,
   "metadata": {},
   "outputs": [],
   "source": [
    "len1 / len2"
   ]
  },
  {
   "cell_type": "markdown",
   "metadata": {},
   "source": [
    "## 수정된 로직\n"
   ]
  },
  {
   "cell_type": "code",
   "execution_count": null,
   "metadata": {},
   "outputs": [],
   "source": [
    "# wave1 = {\n",
    "#     \"duration\": 9,\n",
    "#     \"points\": (32150, 48500),\n",
    "# }\n",
    "\n",
    "# wave2 = {\n",
    "#     \"duration\": 3,\n",
    "#     \"points\": (76900, 97900),\n",
    "# }\n",
    "\n",
    "wave1 = {\n",
    "    \"duration\": 9,\n",
    "    \"points\": (25850, 33150),\n",
    "}\n",
    "\n",
    "wave2 = {\n",
    "    \"duration\": 3,\n",
    "    \"points\": (34300, 45000),\n",
    "}"
   ]
  },
  {
   "cell_type": "code",
   "execution_count": null,
   "metadata": {},
   "outputs": [],
   "source": [
    "x_to_y_ratio = 2.0\n",
    "\n",
    "width1 = wave1[\"duration\"]\n",
    "width2 = wave2[\"duration\"]\n",
    "print(width1, width2)\n",
    "\n",
    "height1 = abs(wave1[\"points\"][1] - wave1[\"points\"][0])\n",
    "height2 = abs(wave2[\"points\"][1] - wave2[\"points\"][0])\n",
    "print(height1, height2)\n",
    "\n",
    "max_x = max(width1, width2)\n",
    "max_y = max(height1, height2)\n",
    "max_height = max(height1, height2)\n",
    "low_y = min(\n",
    "    wave1[\"points\"][0], wave1[\"points\"][1], wave2[\"points\"][0], wave2[\"points\"][1]\n",
    ")\n",
    "high_y = max(\n",
    "    wave1[\"points\"][0], wave1[\"points\"][1], wave2[\"points\"][0], wave2[\"points\"][1]\n",
    ")\n",
    "print(low_y, high_y)\n",
    "\n",
    "width1 /= max_x\n",
    "width2 /= max_x\n",
    "print(width1, width2)\n",
    "\n",
    "width1 *= x_to_y_ratio\n",
    "width2 *= x_to_y_ratio\n",
    "\n",
    "height1 /= max_height\n",
    "height2 /= max_height\n",
    "print(height1, height2)\n",
    "\n",
    "diagonal1 = math.sqrt(width1**2 + height1**2)\n",
    "diagonal2 = math.sqrt(width2**2 + height2**2)\n",
    "print(diagonal1, diagonal2)"
   ]
  },
  {
   "cell_type": "code",
   "execution_count": null,
   "metadata": {},
   "outputs": [],
   "source": [
    "import math\n",
    "\n",
    "diagonal1 = math.sqrt(width1**2 + height1**2)\n",
    "diagonal2 = math.sqrt(width2**2 + height2**2)\n",
    "print(diagonal1)\n",
    "print(diagonal2)"
   ]
  },
  {
   "cell_type": "code",
   "execution_count": null,
   "metadata": {},
   "outputs": [],
   "source": [
    "diagonal1 / diagonal2"
   ]
  },
  {
   "cell_type": "code",
   "execution_count": null,
   "metadata": {},
   "outputs": [],
   "source": [
    "import matplotlib.pyplot as plt\n",
    "\n",
    "plt.plot([0, width1], [wave1[\"points\"][0], wave1[\"points\"][1]], color=\"blue\")\n",
    "plt.plot([0, width2], [wave2[\"points\"][0], wave2[\"points\"][1]], color=\"red\")"
   ]
  },
  {
   "cell_type": "code",
   "execution_count": null,
   "metadata": {},
   "outputs": [],
   "source": [
    "from __future__ import annotations\n",
    "import FinanceDataReader as fdr\n",
    "\n",
    "# df = pd.read_csv(r\"data/btc-usd_1d.csv\")\n",
    "# df\n",
    "\n",
    "\n",
    "df = fdr.DataReader(\"454910\", \"2023-10-25\", \"2023-12-23\").reset_index()[\n",
    "    [\"Date\", \"Open\", \"High\", \"Low\", \"Close\"]\n",
    "]"
   ]
  },
  {
   "cell_type": "code",
   "execution_count": null,
   "metadata": {},
   "outputs": [],
   "source": [
    "df"
   ]
  },
  {
   "cell_type": "code",
   "execution_count": null,
   "metadata": {},
   "outputs": [],
   "source": []
  },
  {
   "cell_type": "code",
   "execution_count": null,
   "metadata": {},
   "outputs": [],
   "source": [
    "import plotly.express as px\n",
    "import pandas as pd\n",
    "\n",
    "fig = px.scatter(\n",
    "    df,\n",
    "    x=\"Date\",\n",
    "    y=\"AAPL.High\",\n",
    "    range_x=[\"2015-12-01\", \"2016-01-15\"],\n",
    "    title=\"Hide Gaps with rangebreaks\",\n",
    ")\n",
    "fig.update_xaxes(\n",
    "    rangebreaks=[\n",
    "        dict(bounds=[\"sat\", \"mon\"]),  # hide weekends\n",
    "        # hide Christmas and New Year's\n",
    "        dict(values=[\"2015-12-25\", \"2016-01-01\"]),\n",
    "    ]\n",
    ")"
   ]
  },
  {
   "cell_type": "code",
   "execution_count": null,
   "metadata": {},
   "outputs": [],
   "source": [
    "import plotly.graph_objects as go\n",
    "\n",
    "data = go.Candlestick(\n",
    "    x=df[\"Date\"], open=df[\"Open\"], high=df[\"High\"], low=df[\"Low\"], close=df[\"Close\"]\n",
    ")\n",
    "layout = dict(title=\"test\")\n",
    "fig = go.Figure(data=[data], layout=layout)"
   ]
  },
  {
   "cell_type": "code",
   "execution_count": null,
   "metadata": {},
   "outputs": [],
   "source": []
  },
  {
   "cell_type": "code",
   "execution_count": null,
   "metadata": {},
   "outputs": [],
   "source": [
    "import pandas as pd\n",
    "\n",
    "start_date = df.loc[0, \"Date\"].date().strftime(\"%Y-%m-%d\")\n",
    "end_date = df.loc[len(df) - 1, \"Date\"].date().strftime(\"%Y-%m-%d\")\n",
    "\n",
    "all_dates = pd.date_range(start_date, end_date, freq=\"D\")\n",
    "\n",
    "# df[\"Date\"] 컬럼을 Python date 객체로 변환\n",
    "df_dates = df[\"Date\"].dt.date.values\n",
    "\n",
    "# all_dates에서 df[\"Date\"]에 없는 날짜 찾기\n",
    "missing_dates = [d.date() for d in all_dates if d.date() not in df_dates]\n",
    "\n",
    "fig.update_xaxes(rangebreaks=[dict(values=missing_dates)])"
   ]
  },
  {
   "cell_type": "code",
   "execution_count": null,
   "metadata": {},
   "outputs": [],
   "source": [
    "fig.update(layout_xaxis_rangeslider_visible=False)"
   ]
  },
  {
   "cell_type": "code",
   "execution_count": null,
   "metadata": {},
   "outputs": [],
   "source": [
    "class WV:\n",
    "\n",
    "    def __init__(self, value):\n",
    "        self.__value = value\n",
    "\n",
    "    @property\n",
    "    def value(self):\n",
    "        return self.__value\n",
    "\n",
    "    @value.setter\n",
    "    def value(self, value):\n",
    "        self.__value = value\n",
    "\n",
    "    def get_values(self):\n",
    "        return self.__value"
   ]
  },
  {
   "cell_type": "code",
   "execution_count": null,
   "metadata": {},
   "outputs": [],
   "source": [
    "w = WV(1)"
   ]
  },
  {
   "cell_type": "code",
   "execution_count": null,
   "metadata": {},
   "outputs": [],
   "source": [
    "w.value = 100"
   ]
  },
  {
   "cell_type": "code",
   "execution_count": null,
   "metadata": {},
   "outputs": [],
   "source": [
    "print(w.value)"
   ]
  },
  {
   "cell_type": "code",
   "execution_count": null,
   "metadata": {},
   "outputs": [],
   "source": [
    "w.get_values()"
   ]
  },
  {
   "cell_type": "markdown",
   "metadata": {},
   "source": []
  }
 ],
 "metadata": {
  "kernelspec": {
   "display_name": "elliot",
   "language": "python",
   "name": "python3"
  },
  "language_info": {
   "codemirror_mode": {
    "name": "ipython",
    "version": 3
   },
   "file_extension": ".py",
   "mimetype": "text/x-python",
   "name": "python",
   "nbconvert_exporter": "python",
   "pygments_lexer": "ipython3",
   "version": "3.9.18"
  }
 },
 "nbformat": 4,
 "nbformat_minor": 2
}
